{
 "cells": [
  {
   "cell_type": "markdown",
   "metadata": {},
   "source": [
    "## Univariate model for deployment\n",
    "\n",
    "This notebook develops the datasets, persistance model functions, and univariate LSTM model used in V1 of the energy-dashboard."
   ]
  },
  {
   "cell_type": "code",
   "execution_count": 37,
   "metadata": {},
   "outputs": [],
   "source": [
    "import pandas as pd\n",
    "import tensorflow as tf\n",
    "from entsoe import EntsoePandasClient\n",
    "import os\n",
    "pd.set_option('min_rows', 100)"
   ]
  },
  {
   "cell_type": "code",
   "execution_count": 3,
   "metadata": {},
   "outputs": [],
   "source": [
    "#download training dataset\n",
    "train_path = '~/github-repos/energy-dashboard/data/training'\n",
    "\n",
    "train_start = '20150101'\n",
    "train_end = '20181231'\n",
    "\n",
    "client = EntsoePandasClient(api_key='909addb7-e4ae-4702-acc7-6b4f4fd9667b')\n",
    "train = client.query_load(\"ES\", \n",
    "                         start=pd.Timestamp(f\"{train_start}T0000\", tz='UTC'), \n",
    "                         end=pd.Timestamp(f\"{train_end}T2300\", tz='UTC'))\n",
    "\n",
    "train.to_csv(os.path.join(train_path, 'training-2015-2018.csv'))\n"
   ]
  },
  {
   "cell_type": "code",
   "execution_count": 10,
   "metadata": {},
   "outputs": [
    {
     "name": "stdout",
     "output_type": "stream",
     "text": [
      "35032\n",
      "2015-01-01 01:00:00+01:00    24382.0\n",
      "2015-01-01 02:00:00+01:00    22734.0\n",
      "2015-01-01 03:00:00+01:00    21286.0\n",
      "2015-01-01 04:00:00+01:00    20264.0\n",
      "2015-01-01 05:00:00+01:00    19905.0\n",
      "dtype: float64\n",
      "2018-12-31 19:00:00+01:00    30653.0\n",
      "2018-12-31 20:00:00+01:00    29735.0\n",
      "2018-12-31 21:00:00+01:00    28071.0\n",
      "2018-12-31 22:00:00+01:00    25801.0\n",
      "2018-12-31 23:00:00+01:00    24455.0\n",
      "dtype: float64\n"
     ]
    },
    {
     "data": {
      "text/plain": [
       "count    35032.000000\n",
       "mean     28696.974252\n",
       "std       4575.226062\n",
       "min      18041.000000\n",
       "25%      24807.000000\n",
       "50%      28901.500000\n",
       "75%      32192.000000\n",
       "max      41015.000000\n",
       "dtype: float64"
      ]
     },
     "execution_count": 10,
     "metadata": {},
     "output_type": "execute_result"
    }
   ],
   "source": [
    "print(len(train))\n",
    "print(train.head())\n",
    "print(train.tail())\n",
    "train.describe()"
   ]
  },
  {
   "cell_type": "code",
   "execution_count": 11,
   "metadata": {},
   "outputs": [
    {
     "data": {
      "text/plain": [
       "0"
      ]
     },
     "execution_count": 11,
     "metadata": {},
     "output_type": "execute_result"
    }
   ],
   "source": [
    "train.isnull().sum()"
   ]
  },
  {
   "cell_type": "code",
   "execution_count": 12,
   "metadata": {},
   "outputs": [],
   "source": [
    "#download the testing dataset\n",
    "test_path = '~/github-repos/energy-dashboard/data/test'\n",
    "\n",
    "test_start = '20150101'\n",
    "test_end = '20181231'\n",
    "\n",
    "client = EntsoePandasClient(api_key='909addb7-e4ae-4702-acc7-6b4f4fd9667b')\n",
    "test = client.query_load(\"ES\", \n",
    "                         start=pd.Timestamp(f\"{train_start}T0000\", tz='UTC'), \n",
    "                         end=pd.Timestamp(f\"{train_end}T2300\", tz='UTC'))\n",
    "\n",
    "test.to_csv(os.path.join(test_path, 'test-2019.csv'))"
   ]
  },
  {
   "cell_type": "markdown",
   "metadata": {},
   "source": [
    "### Persistance 3 day MA"
   ]
  },
  {
   "cell_type": "code",
   "execution_count": 38,
   "metadata": {},
   "outputs": [],
   "source": [
    "def persistance_day_ma(series, num_days):\n",
    "    \n",
    "    window=24*num_days\n",
    "    rolling_mean = series.rolling(window=window, min_periods=24, closed='right').mean()\n",
    "    \n",
    "    return rolling_mean[-24:]\n",
    "    \n",
    "persist_3_day = persistance_day_ma(train, 3)"
   ]
  },
  {
   "cell_type": "code",
   "execution_count": 39,
   "metadata": {},
   "outputs": [
    {
     "data": {
      "text/plain": [
       "2018-12-31 00:00:00+01:00    26834.541667\n",
       "2018-12-31 01:00:00+01:00    26821.652778\n",
       "2018-12-31 02:00:00+01:00    26808.763889\n",
       "2018-12-31 03:00:00+01:00    26794.263889\n",
       "2018-12-31 04:00:00+01:00    26778.625000\n",
       "2018-12-31 05:00:00+01:00    26760.902778\n",
       "2018-12-31 06:00:00+01:00    26734.958333\n",
       "2018-12-31 07:00:00+01:00    26693.930556\n",
       "2018-12-31 08:00:00+01:00    26644.805556\n",
       "2018-12-31 09:00:00+01:00    26596.458333\n",
       "2018-12-31 10:00:00+01:00    26552.333333\n",
       "2018-12-31 11:00:00+01:00    26504.458333\n",
       "2018-12-31 12:00:00+01:00    26453.388889\n",
       "2018-12-31 13:00:00+01:00    26400.375000\n",
       "2018-12-31 14:00:00+01:00    26354.263889\n",
       "2018-12-31 15:00:00+01:00    26308.819444\n",
       "2018-12-31 16:00:00+01:00    26260.402778\n",
       "2018-12-31 17:00:00+01:00    26209.152778\n",
       "2018-12-31 18:00:00+01:00    26172.263889\n",
       "2018-12-31 19:00:00+01:00    26143.444444\n",
       "2018-12-31 20:00:00+01:00    26103.069444\n",
       "2018-12-31 21:00:00+01:00    26046.347222\n",
       "2018-12-31 22:00:00+01:00    25982.083333\n",
       "2018-12-31 23:00:00+01:00    25932.638889\n",
       "dtype: float64"
      ]
     },
     "execution_count": 39,
     "metadata": {},
     "output_type": "execute_result"
    }
   ],
   "source": [
    "persist_3_day"
   ]
  },
  {
   "cell_type": "markdown",
   "metadata": {},
   "source": [
    "### Persitance 3 days hour by hour"
   ]
  },
  {
   "cell_type": "code",
   "execution_count": 41,
   "metadata": {},
   "outputs": [],
   "source": [
    "series = train[-72:]"
   ]
  },
  {
   "cell_type": "code",
   "execution_count": 85,
   "metadata": {},
   "outputs": [],
   "source": [
    "days = series.index.day.unique()\n",
    "hours = series.index.hour[:24]\n",
    "df = pd.DataFrame(series.values.reshape((3,24)), index=days, columns=hours)"
   ]
  },
  {
   "cell_type": "code",
   "execution_count": 86,
   "metadata": {},
   "outputs": [
    {
     "data": {
      "text/plain": [
       "0     24981.000000\n",
       "1     22844.666667\n",
       "2     21424.666667\n",
       "3     20651.333333\n",
       "4     20397.666667\n",
       "5     20548.666667\n",
       "6     21433.666667\n",
       "7     22945.333333\n",
       "8     24520.666667\n",
       "9     26813.666667\n",
       "10    28710.000000\n",
       "11    29041.333333\n",
       "12    28527.666667\n",
       "13    28450.000000\n",
       "14    28021.000000\n",
       "15    26942.000000\n",
       "16    26268.666667\n",
       "17    26535.666667\n",
       "18    29066.333333\n",
       "19    30048.333333\n",
       "20    30198.666667\n",
       "21    29672.666667\n",
       "22    28099.333333\n",
       "23    26240.333333\n",
       "dtype: float64"
      ]
     },
     "execution_count": 86,
     "metadata": {},
     "output_type": "execute_result"
    }
   ],
   "source": [
    "df.mean()"
   ]
  },
  {
   "cell_type": "code",
   "execution_count": 84,
   "metadata": {},
   "outputs": [
    {
     "data": {
      "text/plain": [
       "24"
      ]
     },
     "execution_count": 84,
     "metadata": {},
     "output_type": "execute_result"
    }
   ],
   "source": [
    "\n",
    "\n",
    "\n",
    "df = train.tz_convert(None)\n",
    "len(df.tz_localize('CET', ambiguous='NaT', nonexistent='NaT')['2015-10-26'])"
   ]
  },
  {
   "cell_type": "code",
   "execution_count": 60,
   "metadata": {},
   "outputs": [
    {
     "data": {
      "text/plain": [
       "23"
      ]
     },
     "execution_count": 60,
     "metadata": {},
     "output_type": "execute_result"
    }
   ],
   "source": [
    "len(train['2018-03-25'])"
   ]
  },
  {
   "cell_type": "code",
   "execution_count": 96,
   "metadata": {},
   "outputs": [],
   "source": [
    "def persistance_MA_hourly(series, days):\n",
    "    \n",
    "    df = pd.DataFrame(series.values.reshape((days,24)))\n",
    "    print(type(df))\n",
    "    mean = df.mean()\n",
    "    mean.index = series.index[-24:]\n",
    "    \n",
    "    return mean\n",
    "    \n",
    "    "
   ]
  },
  {
   "cell_type": "code",
   "execution_count": 97,
   "metadata": {},
   "outputs": [
    {
     "name": "stdout",
     "output_type": "stream",
     "text": [
      "<class 'pandas.core.frame.DataFrame'>\n"
     ]
    },
    {
     "data": {
      "text/plain": [
       "2018-12-31 00:00:00+01:00    24981.000000\n",
       "2018-12-31 01:00:00+01:00    22844.666667\n",
       "2018-12-31 02:00:00+01:00    21424.666667\n",
       "2018-12-31 03:00:00+01:00    20651.333333\n",
       "2018-12-31 04:00:00+01:00    20397.666667\n",
       "2018-12-31 05:00:00+01:00    20548.666667\n",
       "2018-12-31 06:00:00+01:00    21433.666667\n",
       "2018-12-31 07:00:00+01:00    22945.333333\n",
       "2018-12-31 08:00:00+01:00    24520.666667\n",
       "2018-12-31 09:00:00+01:00    26813.666667\n",
       "2018-12-31 10:00:00+01:00    28710.000000\n",
       "2018-12-31 11:00:00+01:00    29041.333333\n",
       "2018-12-31 12:00:00+01:00    28527.666667\n",
       "2018-12-31 13:00:00+01:00    28450.000000\n",
       "2018-12-31 14:00:00+01:00    28021.000000\n",
       "2018-12-31 15:00:00+01:00    26942.000000\n",
       "2018-12-31 16:00:00+01:00    26268.666667\n",
       "2018-12-31 17:00:00+01:00    26535.666667\n",
       "2018-12-31 18:00:00+01:00    29066.333333\n",
       "2018-12-31 19:00:00+01:00    30048.333333\n",
       "2018-12-31 20:00:00+01:00    30198.666667\n",
       "2018-12-31 21:00:00+01:00    29672.666667\n",
       "2018-12-31 22:00:00+01:00    28099.333333\n",
       "2018-12-31 23:00:00+01:00    26240.333333\n",
       "dtype: float64"
      ]
     },
     "execution_count": 97,
     "metadata": {},
     "output_type": "execute_result"
    }
   ],
   "source": [
    "persistance_MA_hourly(train[-72:], 3)"
   ]
  },
  {
   "cell_type": "markdown",
   "metadata": {},
   "source": [
    "### Train a simple univeraite LSTM"
   ]
  },
  {
   "cell_type": "code",
   "execution_count": null,
   "metadata": {},
   "outputs": [],
   "source": []
  }
 ],
 "metadata": {
  "kernelspec": {
   "display_name": "Python 3",
   "language": "python",
   "name": "python3"
  },
  "language_info": {
   "codemirror_mode": {
    "name": "ipython",
    "version": 3
   },
   "file_extension": ".py",
   "mimetype": "text/x-python",
   "name": "python",
   "nbconvert_exporter": "python",
   "pygments_lexer": "ipython3",
   "version": "3.7.3"
  }
 },
 "nbformat": 4,
 "nbformat_minor": 4
}
