{
 "cells": [
  {
   "cell_type": "markdown",
   "metadata": {},
   "source": [
    "## Loading data into GCS"
   ]
  },
  {
   "cell_type": "code",
   "execution_count": 19,
   "metadata": {},
   "outputs": [],
   "source": [
    "from google.cloud import storage\n",
    "from google.oauth2 import service_account\n",
    "import os\n",
    "from datetime import datetime, timedelta"
   ]
  },
  {
   "cell_type": "code",
   "execution_count": 6,
   "metadata": {},
   "outputs": [
    {
     "data": {
      "text/plain": [
       "'/Users/ns/github-repos/energy-dashboard/energy-dashboard.json'"
      ]
     },
     "execution_count": 6,
     "metadata": {},
     "output_type": "execute_result"
    }
   ],
   "source": [
    "os.environ['GOOGLE_APPLICATION_CREDENTIALS']"
   ]
  },
  {
   "cell_type": "code",
   "execution_count": 7,
   "metadata": {},
   "outputs": [],
   "source": [
    "credentials = service_account.Credentials.from_service_account_file(os.environ['GOOGLE_APPLICATION_CREDENTIALS'])\n",
    "project_id = 'ml-energy-dashboard'"
   ]
  },
  {
   "cell_type": "code",
   "execution_count": 9,
   "metadata": {},
   "outputs": [
    {
     "name": "stdout",
     "output_type": "stream",
     "text": [
      "Bucket exists: ml-energy-dashboard-raw-data\n"
     ]
    }
   ],
   "source": [
    "bucket_name = 'ml-energy-dashboard-raw-data'\n",
    "storage_client = storage.Client(credentials=credentials, project=project_id)\n",
    "\n",
    "if storage_client.bucket(bucket_name):\n",
    "    print(f'Bucket exists: {bucket_name}')\n",
    "else:\n",
    "    print(f'Creating bucket: {bucket_name}')\n",
    "    storage_client.create_bucket(bucket_name)\n"
   ]
  },
  {
   "cell_type": "code",
   "execution_count": 12,
   "metadata": {},
   "outputs": [],
   "source": [
    "bucket=storage_client.get_bucket(bucket_name)\n",
    "\n"
   ]
  },
  {
   "cell_type": "code",
   "execution_count": 11,
   "metadata": {},
   "outputs": [],
   "source": [
    "from entsoe import EntsoePandasClient\n",
    "import pandas as pd"
   ]
  },
  {
   "cell_type": "code",
   "execution_count": 42,
   "metadata": {},
   "outputs": [
    {
     "name": "stdout",
     "output_type": "stream",
     "text": [
      "('20200308T2300', '20200309T2300')\n"
     ]
    },
    {
     "data": {
      "text/plain": [
       "2020-03-09 00:00:00+01:00    24556.0\n",
       "2020-03-09 01:00:00+01:00    23070.0\n",
       "2020-03-09 02:00:00+01:00    21989.0\n",
       "2020-03-09 03:00:00+01:00    21614.0\n",
       "2020-03-09 04:00:00+01:00    21757.0\n",
       "2020-03-09 05:00:00+01:00    22605.0\n",
       "2020-03-09 06:00:00+01:00    25764.0\n",
       "2020-03-09 07:00:00+01:00    29636.0\n",
       "2020-03-09 08:00:00+01:00    32126.0\n",
       "2020-03-09 09:00:00+01:00    33268.0\n",
       "2020-03-09 10:00:00+01:00    33580.0\n",
       "2020-03-09 11:00:00+01:00    33448.0\n",
       "2020-03-09 12:00:00+01:00    33283.0\n",
       "2020-03-09 13:00:00+01:00    32947.0\n",
       "2020-03-09 14:00:00+01:00    31841.0\n",
       "2020-03-09 15:00:00+01:00    31141.0\n",
       "2020-03-09 16:00:00+01:00    30437.0\n",
       "2020-03-09 17:00:00+01:00    30197.0\n",
       "2020-03-09 18:00:00+01:00    30034.0\n",
       "2020-03-09 19:00:00+01:00    32487.0\n",
       "2020-03-09 20:00:00+01:00    33947.0\n",
       "2020-03-09 21:00:00+01:00    33071.0\n",
       "2020-03-09 22:00:00+01:00    30494.0\n",
       "2020-03-09 23:00:00+01:00    27820.0\n",
       "dtype: float64"
      ]
     },
     "execution_count": 42,
     "metadata": {},
     "output_type": "execute_result"
    }
   ],
   "source": [
    "print(time_pairs[-1])\n",
    "load_entsoe(time_pairs[-1])"
   ]
  },
  {
   "cell_type": "code",
   "execution_count": 36,
   "metadata": {},
   "outputs": [],
   "source": [
    "client = EntsoePandasClient(api_key = os.environ['ENTSOE_TOKEN'])\n",
    "def load_entsoe(time_pair):\n",
    "    data = client.query_load(\"ES\",\n",
    "                  start=pd.Timestamp(time_pair[0], tz='UTC'), \n",
    "                  end=pd.Timestamp(time_pair[1], tz='UTC'))\n",
    "    return data"
   ]
  },
  {
   "cell_type": "code",
   "execution_count": 17,
   "metadata": {},
   "outputs": [
    {
     "data": {
      "text/plain": [
       "2020-03-08 00:00:00+01:00    24985.0\n",
       "2020-03-08 01:00:00+01:00    23210.0\n",
       "2020-03-08 02:00:00+01:00    21964.0\n",
       "2020-03-08 03:00:00+01:00    21315.0\n",
       "2020-03-08 04:00:00+01:00    21078.0\n",
       "2020-03-08 05:00:00+01:00    21215.0\n",
       "2020-03-08 06:00:00+01:00    21555.0\n",
       "2020-03-08 07:00:00+01:00    21738.0\n",
       "2020-03-08 08:00:00+01:00    22702.0\n",
       "2020-03-08 09:00:00+01:00    24647.0\n",
       "2020-03-08 10:00:00+01:00    26384.0\n",
       "2020-03-08 11:00:00+01:00    26802.0\n",
       "2020-03-08 12:00:00+01:00    26621.0\n",
       "2020-03-08 13:00:00+01:00    26791.0\n",
       "2020-03-08 14:00:00+01:00    26445.0\n",
       "2020-03-08 15:00:00+01:00    25292.0\n",
       "2020-03-08 16:00:00+01:00    24512.0\n",
       "2020-03-08 17:00:00+01:00    24375.0\n",
       "2020-03-08 18:00:00+01:00    24930.0\n",
       "2020-03-08 19:00:00+01:00    27636.0\n",
       "2020-03-08 20:00:00+01:00    29788.0\n",
       "2020-03-08 21:00:00+01:00    29801.0\n",
       "2020-03-08 22:00:00+01:00    28619.0\n",
       "2020-03-08 23:00:00+01:00    26465.0\n",
       "dtype: float64"
      ]
     },
     "execution_count": 17,
     "metadata": {},
     "output_type": "execute_result"
    }
   ],
   "source": [
    "data"
   ]
  },
  {
   "cell_type": "code",
   "execution_count": 34,
   "metadata": {},
   "outputs": [
    {
     "name": "stdout",
     "output_type": "stream",
     "text": [
      "2019-12-11 21:10:46.190587\n",
      "2020-03-10 21:10:46.190520\n",
      "[('20191210T2300', '20191211T2300'), ('20191211T2300', '20191212T2300'), ('20191212T2300', '20191213T2300'), ('20191213T2300', '20191214T2300'), ('20191214T2300', '20191215T2300'), ('20191215T2300', '20191216T2300'), ('20191216T2300', '20191217T2300'), ('20191217T2300', '20191218T2300'), ('20191218T2300', '20191219T2300'), ('20191219T2300', '20191220T2300'), ('20191220T2300', '20191221T2300'), ('20191221T2300', '20191222T2300'), ('20191222T2300', '20191223T2300'), ('20191223T2300', '20191224T2300'), ('20191224T2300', '20191225T2300'), ('20191225T2300', '20191226T2300'), ('20191226T2300', '20191227T2300'), ('20191227T2300', '20191228T2300'), ('20191228T2300', '20191229T2300'), ('20191229T2300', '20191230T2300'), ('20191230T2300', '20191231T2300'), ('20191231T2300', '20200101T2300'), ('20200101T2300', '20200102T2300'), ('20200102T2300', '20200103T2300'), ('20200103T2300', '20200104T2300'), ('20200104T2300', '20200105T2300'), ('20200105T2300', '20200106T2300'), ('20200106T2300', '20200107T2300'), ('20200107T2300', '20200108T2300'), ('20200108T2300', '20200109T2300'), ('20200109T2300', '20200110T2300'), ('20200110T2300', '20200111T2300'), ('20200111T2300', '20200112T2300'), ('20200112T2300', '20200113T2300'), ('20200113T2300', '20200114T2300'), ('20200114T2300', '20200115T2300'), ('20200115T2300', '20200116T2300'), ('20200116T2300', '20200117T2300'), ('20200117T2300', '20200118T2300'), ('20200118T2300', '20200119T2300'), ('20200119T2300', '20200120T2300'), ('20200120T2300', '20200121T2300'), ('20200121T2300', '20200122T2300'), ('20200122T2300', '20200123T2300'), ('20200123T2300', '20200124T2300'), ('20200124T2300', '20200125T2300'), ('20200125T2300', '20200126T2300'), ('20200126T2300', '20200127T2300'), ('20200127T2300', '20200128T2300'), ('20200128T2300', '20200129T2300'), ('20200129T2300', '20200130T2300'), ('20200130T2300', '20200131T2300'), ('20200131T2300', '20200201T2300'), ('20200201T2300', '20200202T2300'), ('20200202T2300', '20200203T2300'), ('20200203T2300', '20200204T2300'), ('20200204T2300', '20200205T2300'), ('20200205T2300', '20200206T2300'), ('20200206T2300', '20200207T2300'), ('20200207T2300', '20200208T2300'), ('20200208T2300', '20200209T2300'), ('20200209T2300', '20200210T2300'), ('20200210T2300', '20200211T2300'), ('20200211T2300', '20200212T2300'), ('20200212T2300', '20200213T2300'), ('20200213T2300', '20200214T2300'), ('20200214T2300', '20200215T2300'), ('20200215T2300', '20200216T2300'), ('20200216T2300', '20200217T2300'), ('20200217T2300', '20200218T2300'), ('20200218T2300', '20200219T2300'), ('20200219T2300', '20200220T2300'), ('20200220T2300', '20200221T2300'), ('20200221T2300', '20200222T2300'), ('20200222T2300', '20200223T2300'), ('20200223T2300', '20200224T2300'), ('20200224T2300', '20200225T2300'), ('20200225T2300', '20200226T2300'), ('20200226T2300', '20200227T2300'), ('20200227T2300', '20200228T2300'), ('20200228T2300', '20200229T2300'), ('20200229T2300', '20200301T2300'), ('20200301T2300', '20200302T2300'), ('20200302T2300', '20200303T2300'), ('20200303T2300', '20200304T2300'), ('20200304T2300', '20200305T2300'), ('20200305T2300', '20200306T2300'), ('20200306T2300', '20200307T2300'), ('20200307T2300', '20200308T2300'), ('20200308T2300', '20200309T2300')]\n"
     ]
    }
   ],
   "source": [
    "#generate a list of dates for the last 90 days\n",
    "end = datetime.today()\n",
    "start = datetime.today() + timedelta(-90)\n",
    "delta = end-start\n",
    "\n",
    "date_list = [(start + timedelta(i)).strftime('%Y%m%d') for i in range(delta.days+1)]\n",
    "\n",
    "time_pairs = list()\n",
    "\n",
    "for i in range(delta.days+1):\n",
    "    begin_time = (start + timedelta(i-1)).strftime('%Y%m%d')\n",
    "    begin_time = f'{begin_time}T2300'\n",
    "    end_time = (start + timedelta(i)).strftime('%Y%m%d')\n",
    "    end_time = f'{end_time}T2300'\n",
    "    \n",
    "    time_pairs.append((begin_time, end_time))\n",
    "    \n",
    "\n",
    "print(start)\n",
    "print(end)\n",
    "print(time_pairs)"
   ]
  },
  {
   "cell_type": "code",
   "execution_count": 39,
   "metadata": {},
   "outputs": [
    {
     "name": "stdout",
     "output_type": "stream",
     "text": [
      "Uploaded es-energy-demand-20191210T2300-20191211T2300...\n",
      "Uploaded es-energy-demand-20191211T2300-20191212T2300...\n",
      "Uploaded es-energy-demand-20191212T2300-20191213T2300...\n",
      "Uploaded es-energy-demand-20191213T2300-20191214T2300...\n",
      "Uploaded es-energy-demand-20191214T2300-20191215T2300...\n",
      "Uploaded es-energy-demand-20191215T2300-20191216T2300...\n",
      "Uploaded es-energy-demand-20191216T2300-20191217T2300...\n",
      "Uploaded es-energy-demand-20191217T2300-20191218T2300...\n",
      "Uploaded es-energy-demand-20191218T2300-20191219T2300...\n",
      "Uploaded es-energy-demand-20191219T2300-20191220T2300...\n",
      "Uploaded es-energy-demand-20191220T2300-20191221T2300...\n",
      "Uploaded es-energy-demand-20191221T2300-20191222T2300...\n",
      "Uploaded es-energy-demand-20191222T2300-20191223T2300...\n",
      "Uploaded es-energy-demand-20191223T2300-20191224T2300...\n",
      "Uploaded es-energy-demand-20191224T2300-20191225T2300...\n",
      "Uploaded es-energy-demand-20191225T2300-20191226T2300...\n",
      "Uploaded es-energy-demand-20191226T2300-20191227T2300...\n",
      "Uploaded es-energy-demand-20191227T2300-20191228T2300...\n",
      "Uploaded es-energy-demand-20191228T2300-20191229T2300...\n",
      "Uploaded es-energy-demand-20191229T2300-20191230T2300...\n",
      "Uploaded es-energy-demand-20191230T2300-20191231T2300...\n",
      "Uploaded es-energy-demand-20191231T2300-20200101T2300...\n",
      "Uploaded es-energy-demand-20200101T2300-20200102T2300...\n",
      "Uploaded es-energy-demand-20200102T2300-20200103T2300...\n",
      "Uploaded es-energy-demand-20200103T2300-20200104T2300...\n",
      "Uploaded es-energy-demand-20200104T2300-20200105T2300...\n",
      "Uploaded es-energy-demand-20200105T2300-20200106T2300...\n",
      "Uploaded es-energy-demand-20200106T2300-20200107T2300...\n",
      "Uploaded es-energy-demand-20200107T2300-20200108T2300...\n",
      "Uploaded es-energy-demand-20200108T2300-20200109T2300...\n",
      "Uploaded es-energy-demand-20200109T2300-20200110T2300...\n",
      "Uploaded es-energy-demand-20200110T2300-20200111T2300...\n",
      "Uploaded es-energy-demand-20200111T2300-20200112T2300...\n",
      "Uploaded es-energy-demand-20200112T2300-20200113T2300...\n",
      "Uploaded es-energy-demand-20200113T2300-20200114T2300...\n",
      "Uploaded es-energy-demand-20200114T2300-20200115T2300...\n",
      "Uploaded es-energy-demand-20200115T2300-20200116T2300...\n",
      "Uploaded es-energy-demand-20200116T2300-20200117T2300...\n",
      "Uploaded es-energy-demand-20200117T2300-20200118T2300...\n",
      "Uploaded es-energy-demand-20200118T2300-20200119T2300...\n",
      "Uploaded es-energy-demand-20200119T2300-20200120T2300...\n",
      "Uploaded es-energy-demand-20200120T2300-20200121T2300...\n",
      "Uploaded es-energy-demand-20200121T2300-20200122T2300...\n",
      "Uploaded es-energy-demand-20200122T2300-20200123T2300...\n",
      "Uploaded es-energy-demand-20200123T2300-20200124T2300...\n",
      "Uploaded es-energy-demand-20200124T2300-20200125T2300...\n",
      "Uploaded es-energy-demand-20200125T2300-20200126T2300...\n",
      "Uploaded es-energy-demand-20200126T2300-20200127T2300...\n",
      "Uploaded es-energy-demand-20200127T2300-20200128T2300...\n",
      "Uploaded es-energy-demand-20200128T2300-20200129T2300...\n",
      "Uploaded es-energy-demand-20200129T2300-20200130T2300...\n",
      "Uploaded es-energy-demand-20200130T2300-20200131T2300...\n",
      "Uploaded es-energy-demand-20200131T2300-20200201T2300...\n",
      "Uploaded es-energy-demand-20200201T2300-20200202T2300...\n",
      "Uploaded es-energy-demand-20200202T2300-20200203T2300...\n",
      "Uploaded es-energy-demand-20200203T2300-20200204T2300...\n",
      "Uploaded es-energy-demand-20200204T2300-20200205T2300...\n",
      "Uploaded es-energy-demand-20200205T2300-20200206T2300...\n",
      "Uploaded es-energy-demand-20200206T2300-20200207T2300...\n",
      "Uploaded es-energy-demand-20200207T2300-20200208T2300...\n",
      "Uploaded es-energy-demand-20200208T2300-20200209T2300...\n",
      "Uploaded es-energy-demand-20200209T2300-20200210T2300...\n",
      "Uploaded es-energy-demand-20200210T2300-20200211T2300...\n",
      "Uploaded es-energy-demand-20200211T2300-20200212T2300...\n",
      "Uploaded es-energy-demand-20200212T2300-20200213T2300...\n",
      "Uploaded es-energy-demand-20200213T2300-20200214T2300...\n",
      "Uploaded es-energy-demand-20200214T2300-20200215T2300...\n",
      "Uploaded es-energy-demand-20200215T2300-20200216T2300...\n",
      "Uploaded es-energy-demand-20200216T2300-20200217T2300...\n",
      "Uploaded es-energy-demand-20200217T2300-20200218T2300...\n",
      "Uploaded es-energy-demand-20200218T2300-20200219T2300...\n",
      "Uploaded es-energy-demand-20200219T2300-20200220T2300...\n",
      "Uploaded es-energy-demand-20200220T2300-20200221T2300...\n",
      "Uploaded es-energy-demand-20200221T2300-20200222T2300...\n",
      "Uploaded es-energy-demand-20200222T2300-20200223T2300...\n",
      "Uploaded es-energy-demand-20200223T2300-20200224T2300...\n",
      "Uploaded es-energy-demand-20200224T2300-20200225T2300...\n",
      "Uploaded es-energy-demand-20200225T2300-20200226T2300...\n",
      "Uploaded es-energy-demand-20200226T2300-20200227T2300...\n",
      "Uploaded es-energy-demand-20200227T2300-20200228T2300...\n",
      "Uploaded es-energy-demand-20200228T2300-20200229T2300...\n",
      "Uploaded es-energy-demand-20200229T2300-20200301T2300...\n",
      "Uploaded es-energy-demand-20200301T2300-20200302T2300...\n",
      "Uploaded es-energy-demand-20200302T2300-20200303T2300...\n",
      "Uploaded es-energy-demand-20200303T2300-20200304T2300...\n",
      "Uploaded es-energy-demand-20200304T2300-20200305T2300...\n",
      "Uploaded es-energy-demand-20200305T2300-20200306T2300...\n",
      "Uploaded es-energy-demand-20200306T2300-20200307T2300...\n",
      "Uploaded es-energy-demand-20200307T2300-20200308T2300...\n",
      "Uploaded es-energy-demand-20200308T2300-20200309T2300...\n"
     ]
    }
   ],
   "source": [
    "#download all dates in the time pairs and upload to GCS\n",
    "folder='raw-days'\n",
    "bucket=storage_client.get_bucket(bucket_name)\n",
    "\n",
    "for time_pair in time_pairs:\n",
    "    s = time_pair[0]\n",
    "    e = time_pair[1]\n",
    "    file_name = f'es-energy-demand-{s}-{e}'\n",
    "    blob = bucket.blob(f'{folder}/{file_name}')\n",
    "    \n",
    "    data = load_entsoe(time_pair)\n",
    "    \n",
    "    blob.upload_from_string(data.to_json())\n",
    "    print(f'Uploaded {file_name}...')"
   ]
  },
  {
   "cell_type": "markdown",
   "metadata": {},
   "source": [
    "### Adding a date interpolation function"
   ]
  },
  {
   "cell_type": "code",
   "execution_count": 8,
   "metadata": {},
   "outputs": [],
   "source": [
    "#copy of cloud function to download and store data\n",
    "def store_day_load(request):\n",
    "    from entsoe import EntsoePandasClient\n",
    "    from datetime import datetime, timedelta\n",
    "    import pandas as pd\n",
    "    import numpy as np\n",
    "    from google.cloud import storage\n",
    "    \n",
    "    FOLDER = 'raw-days'\n",
    "    BUCKET = 'ml-energy-dashboard-raw-data'\n",
    "    \n",
    "    def generate_dates():\n",
    "\n",
    "        start = (datetime.today()+timedelta(-2)).strftime('%Y%m%d')\n",
    "        start = f'{start}T2300'\n",
    "\n",
    "        end = (datetime.today()+timedelta(-1)).strftime('%Y%m%d')\n",
    "        end =f'{end}T2300'\n",
    "\n",
    "        date = (datetime.today()+timedelta(-1)).strftime('%Y%m%d')\n",
    "        \n",
    "        return start, end, date\n",
    "    \n",
    "    def gcs_file_name(start, end):\n",
    "        return f'es-energy-demand-raw-{start}-{end}'\n",
    "    \n",
    "    def query_entsoe_load(start, end):\n",
    "        \n",
    "        client = EntsoePandasClient(api_key='909addb7-e4ae-4702-acc7-6b4f4fd9667b')\n",
    "        data = client.query_load(\"ES\", \n",
    "            start=pd.Timestamp(start, tz='UTC'), \n",
    "            end=pd.Timestamp(end, tz='UTC'))\n",
    "        \n",
    "        return data\n",
    "    \n",
    "    def check_fill_nans(data, date):\n",
    "        print(date)\n",
    "        idx = pd.date_range(start=f'{date}T0000', end=f'{date}T2300', freq='H').tz_localize('Europe/Madrid')\n",
    "        data = data.append(pd.Series(np.NaN, index = idx.difference(data.index))).sort_index().interpolate()\n",
    "        \n",
    "        return data\n",
    "        \n",
    "    def upload_data_to_gcs(data, bucket_name, folder_name, file_name):\n",
    "        \n",
    "        storage_client = storage.Client()\n",
    "        bucket = storage_client.get_bucket(bucket_name)\n",
    "        blob = bucket.blob(f'{folder_name}/{file_name}')\n",
    "        blob.upload_from_string(data.to_json())\n",
    "        \n",
    "    \n",
    "    params = request#.get_json()\n",
    "    \n",
    "    if \"get_data\" in params and params['get_data']:\n",
    "        \n",
    "        start_time, end_time, date = generate_dates()\n",
    "        \n",
    "        file_name = gcs_file_name(start_time, end_time)\n",
    "        \n",
    "        data = query_entsoe_load(start_time, end_time)\n",
    "        \n",
    "        data = check_fill_nans(data, date)\n",
    "        \n",
    "        upload_data_to_gcs(data, BUCKET, FOLDER, file_name)"
   ]
  },
  {
   "cell_type": "code",
   "execution_count": 9,
   "metadata": {},
   "outputs": [
    {
     "name": "stdout",
     "output_type": "stream",
     "text": [
      "20200310\n"
     ]
    }
   ],
   "source": [
    "request = {\"get_data\": 'true'}\n",
    "data = store_day_load(request)\n"
   ]
  },
  {
   "cell_type": "code",
   "execution_count": 10,
   "metadata": {},
   "outputs": [
    {
     "data": {
      "text/plain": [
       "2020-03-10 00:00:00+01:00    26025.0\n",
       "2020-03-10 01:00:00+01:00    24464.0\n",
       "2020-03-10 02:00:00+01:00    23602.0\n",
       "2020-03-10 03:00:00+01:00    22989.0\n",
       "2020-03-10 04:00:00+01:00    23066.0\n",
       "2020-03-10 05:00:00+01:00    23649.0\n",
       "2020-03-10 06:00:00+01:00    26358.0\n",
       "2020-03-10 07:00:00+01:00    29863.0\n",
       "2020-03-10 08:00:00+01:00    32001.0\n",
       "2020-03-10 09:00:00+01:00    32997.0\n",
       "2020-03-10 10:00:00+01:00    33063.0\n",
       "2020-03-10 11:00:00+01:00    32864.5\n",
       "2020-03-10 12:00:00+01:00    32666.0\n",
       "2020-03-10 13:00:00+01:00    32583.0\n",
       "2020-03-10 14:00:00+01:00    31553.0\n",
       "2020-03-10 15:00:00+01:00    30862.0\n",
       "2020-03-10 16:00:00+01:00    30254.0\n",
       "2020-03-10 17:00:00+01:00    29920.0\n",
       "2020-03-10 18:00:00+01:00    29832.0\n",
       "2020-03-10 19:00:00+01:00    32071.0\n",
       "2020-03-10 20:00:00+01:00    33985.0\n",
       "2020-03-10 21:00:00+01:00    33242.0\n",
       "2020-03-10 22:00:00+01:00    30704.0\n",
       "2020-03-10 23:00:00+01:00    27988.0\n",
       "dtype: float64"
      ]
     },
     "execution_count": 10,
     "metadata": {},
     "output_type": "execute_result"
    }
   ],
   "source": [
    "data['20200310']"
   ]
  },
  {
   "cell_type": "code",
   "execution_count": 59,
   "metadata": {},
   "outputs": [],
   "source": [
    "import numpy as np"
   ]
  },
  {
   "cell_type": "code",
   "execution_count": 64,
   "metadata": {},
   "outputs": [
    {
     "data": {
      "text/plain": [
       "2020-03-10 00:00:00+01:00    26025.0\n",
       "2020-03-10 01:00:00+01:00    24464.0\n",
       "2020-03-10 02:00:00+01:00    23602.0\n",
       "2020-03-10 03:00:00+01:00    22989.0\n",
       "2020-03-10 04:00:00+01:00    23066.0\n",
       "2020-03-10 05:00:00+01:00    23649.0\n",
       "2020-03-10 06:00:00+01:00    26358.0\n",
       "2020-03-10 07:00:00+01:00    29863.0\n",
       "2020-03-10 08:00:00+01:00    32001.0\n",
       "2020-03-10 09:00:00+01:00    32997.0\n",
       "2020-03-10 10:00:00+01:00    33063.0\n",
       "2020-03-10 11:00:00+01:00    32864.5\n",
       "2020-03-10 12:00:00+01:00    32666.0\n",
       "2020-03-10 13:00:00+01:00    32583.0\n",
       "2020-03-10 14:00:00+01:00    31553.0\n",
       "2020-03-10 15:00:00+01:00    30862.0\n",
       "2020-03-10 16:00:00+01:00    30254.0\n",
       "2020-03-10 17:00:00+01:00    29920.0\n",
       "2020-03-10 18:00:00+01:00    29832.0\n",
       "2020-03-10 19:00:00+01:00    32071.0\n",
       "2020-03-10 20:00:00+01:00    33985.0\n",
       "2020-03-10 21:00:00+01:00    33242.0\n",
       "2020-03-10 22:00:00+01:00    30704.0\n",
       "2020-03-10 23:00:00+01:00    27988.0\n",
       "dtype: float64"
      ]
     },
     "execution_count": 64,
     "metadata": {},
     "output_type": "execute_result"
    }
   ],
   "source": [
    "idx = pd.date_range(start='20200310T0000', end='20200310T2300', periods=24).tz_localize('Europe/Madrid')\n",
    "data.append(pd.Series(np.NaN, index = idx.difference(data.index))).sort_index().interpolate()"
   ]
  },
  {
   "cell_type": "code",
   "execution_count": null,
   "metadata": {},
   "outputs": [],
   "source": []
  }
 ],
 "metadata": {
  "kernelspec": {
   "display_name": "Python 3",
   "language": "python",
   "name": "python3"
  },
  "language_info": {
   "codemirror_mode": {
    "name": "ipython",
    "version": 3
   },
   "file_extension": ".py",
   "mimetype": "text/x-python",
   "name": "python",
   "nbconvert_exporter": "python",
   "pygments_lexer": "ipython3",
   "version": "3.7.3"
  }
 },
 "nbformat": 4,
 "nbformat_minor": 4
}
