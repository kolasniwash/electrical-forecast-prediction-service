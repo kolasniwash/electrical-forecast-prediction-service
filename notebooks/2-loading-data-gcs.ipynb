{
 "cells": [
  {
   "cell_type": "markdown",
   "metadata": {},
   "source": [
    "## Loading data into GCS"
   ]
  },
  {
   "cell_type": "code",
   "execution_count": 19,
   "metadata": {},
   "outputs": [],
   "source": [
    "from google.cloud import storage\n",
    "from google.oauth2 import service_account\n",
    "import os\n",
    "from datetime import datetime, timedelta"
   ]
  },
  {
   "cell_type": "code",
   "execution_count": 6,
   "metadata": {},
   "outputs": [
    {
     "data": {
      "text/plain": [
       "'/Users/ns/github-repos/energy-dashboard/energy-dashboard.json'"
      ]
     },
     "execution_count": 6,
     "metadata": {},
     "output_type": "execute_result"
    }
   ],
   "source": [
    "os.environ['GOOGLE_APPLICATION_CREDENTIALS']"
   ]
  },
  {
   "cell_type": "code",
   "execution_count": 7,
   "metadata": {},
   "outputs": [],
   "source": [
    "credentials = service_account.Credentials.from_service_account_file(os.environ['GOOGLE_APPLICATION_CREDENTIALS'])\n",
    "project_id = 'ml-energy-dashboard'"
   ]
  },
  {
   "cell_type": "code",
   "execution_count": 9,
   "metadata": {},
   "outputs": [
    {
     "name": "stdout",
     "output_type": "stream",
     "text": [
      "Bucket exists: ml-energy-dashboard-raw-data\n"
     ]
    }
   ],
   "source": [
    "bucket_name = 'ml-energy-dashboard-raw-data'\n",
    "storage_client = storage.Client(credentials=credentials, project=project_id)\n",
    "\n",
    "if storage_client.bucket(bucket_name):\n",
    "    print(f'Bucket exists: {bucket_name}')\n",
    "else:\n",
    "    print(f'Creating bucket: {bucket_name}')\n",
    "    storage_client.create_bucket(bucket_name)\n"
   ]
  },
  {
   "cell_type": "code",
   "execution_count": 12,
   "metadata": {},
   "outputs": [],
   "source": [
    "bucket=storage_client.get_bucket(bucket_name)\n",
    "\n"
   ]
  },
  {
   "cell_type": "code",
   "execution_count": 11,
   "metadata": {},
   "outputs": [],
   "source": [
    "from entsoe import EntsoePandasClient\n",
    "import pandas as pd"
   ]
  },
  {
   "cell_type": "code",
   "execution_count": 36,
   "metadata": {},
   "outputs": [],
   "source": [
    "client = EntsoePandasClient(api_key = os.environ['ENTSOE_TOKEN'])\n",
    "def load_entsoe(time_pair):\n",
    "    data = client.query_load(\"ES\",\n",
    "                  start=pd.Timestamp(time_pair[0], tz='UTC'), \n",
    "                  end=pd.Timestamp(time_pair[1], tz='UTC'))\n",
    "    return data"
   ]
  },
  {
   "cell_type": "code",
   "execution_count": 17,
   "metadata": {},
   "outputs": [
    {
     "data": {
      "text/plain": [
       "2020-03-08 00:00:00+01:00    24985.0\n",
       "2020-03-08 01:00:00+01:00    23210.0\n",
       "2020-03-08 02:00:00+01:00    21964.0\n",
       "2020-03-08 03:00:00+01:00    21315.0\n",
       "2020-03-08 04:00:00+01:00    21078.0\n",
       "2020-03-08 05:00:00+01:00    21215.0\n",
       "2020-03-08 06:00:00+01:00    21555.0\n",
       "2020-03-08 07:00:00+01:00    21738.0\n",
       "2020-03-08 08:00:00+01:00    22702.0\n",
       "2020-03-08 09:00:00+01:00    24647.0\n",
       "2020-03-08 10:00:00+01:00    26384.0\n",
       "2020-03-08 11:00:00+01:00    26802.0\n",
       "2020-03-08 12:00:00+01:00    26621.0\n",
       "2020-03-08 13:00:00+01:00    26791.0\n",
       "2020-03-08 14:00:00+01:00    26445.0\n",
       "2020-03-08 15:00:00+01:00    25292.0\n",
       "2020-03-08 16:00:00+01:00    24512.0\n",
       "2020-03-08 17:00:00+01:00    24375.0\n",
       "2020-03-08 18:00:00+01:00    24930.0\n",
       "2020-03-08 19:00:00+01:00    27636.0\n",
       "2020-03-08 20:00:00+01:00    29788.0\n",
       "2020-03-08 21:00:00+01:00    29801.0\n",
       "2020-03-08 22:00:00+01:00    28619.0\n",
       "2020-03-08 23:00:00+01:00    26465.0\n",
       "dtype: float64"
      ]
     },
     "execution_count": 17,
     "metadata": {},
     "output_type": "execute_result"
    }
   ],
   "source": [
    "data"
   ]
  },
  {
   "cell_type": "code",
   "execution_count": 34,
   "metadata": {},
   "outputs": [
    {
     "name": "stdout",
     "output_type": "stream",
     "text": [
      "2019-12-11 21:10:46.190587\n",
      "2020-03-10 21:10:46.190520\n",
      "[('20191210T2300', '20191211T2300'), ('20191211T2300', '20191212T2300'), ('20191212T2300', '20191213T2300'), ('20191213T2300', '20191214T2300'), ('20191214T2300', '20191215T2300'), ('20191215T2300', '20191216T2300'), ('20191216T2300', '20191217T2300'), ('20191217T2300', '20191218T2300'), ('20191218T2300', '20191219T2300'), ('20191219T2300', '20191220T2300'), ('20191220T2300', '20191221T2300'), ('20191221T2300', '20191222T2300'), ('20191222T2300', '20191223T2300'), ('20191223T2300', '20191224T2300'), ('20191224T2300', '20191225T2300'), ('20191225T2300', '20191226T2300'), ('20191226T2300', '20191227T2300'), ('20191227T2300', '20191228T2300'), ('20191228T2300', '20191229T2300'), ('20191229T2300', '20191230T2300'), ('20191230T2300', '20191231T2300'), ('20191231T2300', '20200101T2300'), ('20200101T2300', '20200102T2300'), ('20200102T2300', '20200103T2300'), ('20200103T2300', '20200104T2300'), ('20200104T2300', '20200105T2300'), ('20200105T2300', '20200106T2300'), ('20200106T2300', '20200107T2300'), ('20200107T2300', '20200108T2300'), ('20200108T2300', '20200109T2300'), ('20200109T2300', '20200110T2300'), ('20200110T2300', '20200111T2300'), ('20200111T2300', '20200112T2300'), ('20200112T2300', '20200113T2300'), ('20200113T2300', '20200114T2300'), ('20200114T2300', '20200115T2300'), ('20200115T2300', '20200116T2300'), ('20200116T2300', '20200117T2300'), ('20200117T2300', '20200118T2300'), ('20200118T2300', '20200119T2300'), ('20200119T2300', '20200120T2300'), ('20200120T2300', '20200121T2300'), ('20200121T2300', '20200122T2300'), ('20200122T2300', '20200123T2300'), ('20200123T2300', '20200124T2300'), ('20200124T2300', '20200125T2300'), ('20200125T2300', '20200126T2300'), ('20200126T2300', '20200127T2300'), ('20200127T2300', '20200128T2300'), ('20200128T2300', '20200129T2300'), ('20200129T2300', '20200130T2300'), ('20200130T2300', '20200131T2300'), ('20200131T2300', '20200201T2300'), ('20200201T2300', '20200202T2300'), ('20200202T2300', '20200203T2300'), ('20200203T2300', '20200204T2300'), ('20200204T2300', '20200205T2300'), ('20200205T2300', '20200206T2300'), ('20200206T2300', '20200207T2300'), ('20200207T2300', '20200208T2300'), ('20200208T2300', '20200209T2300'), ('20200209T2300', '20200210T2300'), ('20200210T2300', '20200211T2300'), ('20200211T2300', '20200212T2300'), ('20200212T2300', '20200213T2300'), ('20200213T2300', '20200214T2300'), ('20200214T2300', '20200215T2300'), ('20200215T2300', '20200216T2300'), ('20200216T2300', '20200217T2300'), ('20200217T2300', '20200218T2300'), ('20200218T2300', '20200219T2300'), ('20200219T2300', '20200220T2300'), ('20200220T2300', '20200221T2300'), ('20200221T2300', '20200222T2300'), ('20200222T2300', '20200223T2300'), ('20200223T2300', '20200224T2300'), ('20200224T2300', '20200225T2300'), ('20200225T2300', '20200226T2300'), ('20200226T2300', '20200227T2300'), ('20200227T2300', '20200228T2300'), ('20200228T2300', '20200229T2300'), ('20200229T2300', '20200301T2300'), ('20200301T2300', '20200302T2300'), ('20200302T2300', '20200303T2300'), ('20200303T2300', '20200304T2300'), ('20200304T2300', '20200305T2300'), ('20200305T2300', '20200306T2300'), ('20200306T2300', '20200307T2300'), ('20200307T2300', '20200308T2300'), ('20200308T2300', '20200309T2300')]\n"
     ]
    }
   ],
   "source": [
    "#generate a list of dates for the last 90 days\n",
    "end = datetime.today()\n",
    "start = datetime.today() + timedelta(-90)\n",
    "delta = end-start\n",
    "\n",
    "date_list = [(start + timedelta(i)).strftime('%Y%m%d') for i in range(delta.days+1)]\n",
    "\n",
    "time_pairs = list()\n",
    "\n",
    "for i in range(delta.days+1):\n",
    "    begin_time = (start + timedelta(i-1)).strftime('%Y%m%d')\n",
    "    begin_time = f'{begin_time}T2300'\n",
    "    end_time = (start + timedelta(i)).strftime('%Y%m%d')\n",
    "    end_time = f'{end_time}T2300'\n",
    "    \n",
    "    time_pairs.append((begin_time, end_time))\n",
    "    \n",
    "\n",
    "print(start)\n",
    "print(end)\n",
    "print(time_pairs)"
   ]
  },
  {
   "cell_type": "code",
   "execution_count": 39,
   "metadata": {},
   "outputs": [
    {
     "name": "stdout",
     "output_type": "stream",
     "text": [
      "Uploaded es-energy-demand-20191210T2300-20191211T2300...\n",
      "Uploaded es-energy-demand-20191211T2300-20191212T2300...\n",
      "Uploaded es-energy-demand-20191212T2300-20191213T2300...\n",
      "Uploaded es-energy-demand-20191213T2300-20191214T2300...\n",
      "Uploaded es-energy-demand-20191214T2300-20191215T2300...\n",
      "Uploaded es-energy-demand-20191215T2300-20191216T2300...\n",
      "Uploaded es-energy-demand-20191216T2300-20191217T2300...\n",
      "Uploaded es-energy-demand-20191217T2300-20191218T2300...\n",
      "Uploaded es-energy-demand-20191218T2300-20191219T2300...\n",
      "Uploaded es-energy-demand-20191219T2300-20191220T2300...\n",
      "Uploaded es-energy-demand-20191220T2300-20191221T2300...\n",
      "Uploaded es-energy-demand-20191221T2300-20191222T2300...\n",
      "Uploaded es-energy-demand-20191222T2300-20191223T2300...\n",
      "Uploaded es-energy-demand-20191223T2300-20191224T2300...\n",
      "Uploaded es-energy-demand-20191224T2300-20191225T2300...\n",
      "Uploaded es-energy-demand-20191225T2300-20191226T2300...\n",
      "Uploaded es-energy-demand-20191226T2300-20191227T2300...\n",
      "Uploaded es-energy-demand-20191227T2300-20191228T2300...\n",
      "Uploaded es-energy-demand-20191228T2300-20191229T2300...\n",
      "Uploaded es-energy-demand-20191229T2300-20191230T2300...\n",
      "Uploaded es-energy-demand-20191230T2300-20191231T2300...\n",
      "Uploaded es-energy-demand-20191231T2300-20200101T2300...\n",
      "Uploaded es-energy-demand-20200101T2300-20200102T2300...\n",
      "Uploaded es-energy-demand-20200102T2300-20200103T2300...\n",
      "Uploaded es-energy-demand-20200103T2300-20200104T2300...\n",
      "Uploaded es-energy-demand-20200104T2300-20200105T2300...\n",
      "Uploaded es-energy-demand-20200105T2300-20200106T2300...\n",
      "Uploaded es-energy-demand-20200106T2300-20200107T2300...\n",
      "Uploaded es-energy-demand-20200107T2300-20200108T2300...\n",
      "Uploaded es-energy-demand-20200108T2300-20200109T2300...\n",
      "Uploaded es-energy-demand-20200109T2300-20200110T2300...\n",
      "Uploaded es-energy-demand-20200110T2300-20200111T2300...\n",
      "Uploaded es-energy-demand-20200111T2300-20200112T2300...\n",
      "Uploaded es-energy-demand-20200112T2300-20200113T2300...\n",
      "Uploaded es-energy-demand-20200113T2300-20200114T2300...\n",
      "Uploaded es-energy-demand-20200114T2300-20200115T2300...\n",
      "Uploaded es-energy-demand-20200115T2300-20200116T2300...\n",
      "Uploaded es-energy-demand-20200116T2300-20200117T2300...\n",
      "Uploaded es-energy-demand-20200117T2300-20200118T2300...\n",
      "Uploaded es-energy-demand-20200118T2300-20200119T2300...\n",
      "Uploaded es-energy-demand-20200119T2300-20200120T2300...\n",
      "Uploaded es-energy-demand-20200120T2300-20200121T2300...\n",
      "Uploaded es-energy-demand-20200121T2300-20200122T2300...\n",
      "Uploaded es-energy-demand-20200122T2300-20200123T2300...\n",
      "Uploaded es-energy-demand-20200123T2300-20200124T2300...\n",
      "Uploaded es-energy-demand-20200124T2300-20200125T2300...\n",
      "Uploaded es-energy-demand-20200125T2300-20200126T2300...\n",
      "Uploaded es-energy-demand-20200126T2300-20200127T2300...\n",
      "Uploaded es-energy-demand-20200127T2300-20200128T2300...\n",
      "Uploaded es-energy-demand-20200128T2300-20200129T2300...\n",
      "Uploaded es-energy-demand-20200129T2300-20200130T2300...\n",
      "Uploaded es-energy-demand-20200130T2300-20200131T2300...\n",
      "Uploaded es-energy-demand-20200131T2300-20200201T2300...\n",
      "Uploaded es-energy-demand-20200201T2300-20200202T2300...\n",
      "Uploaded es-energy-demand-20200202T2300-20200203T2300...\n",
      "Uploaded es-energy-demand-20200203T2300-20200204T2300...\n",
      "Uploaded es-energy-demand-20200204T2300-20200205T2300...\n",
      "Uploaded es-energy-demand-20200205T2300-20200206T2300...\n",
      "Uploaded es-energy-demand-20200206T2300-20200207T2300...\n",
      "Uploaded es-energy-demand-20200207T2300-20200208T2300...\n",
      "Uploaded es-energy-demand-20200208T2300-20200209T2300...\n",
      "Uploaded es-energy-demand-20200209T2300-20200210T2300...\n",
      "Uploaded es-energy-demand-20200210T2300-20200211T2300...\n",
      "Uploaded es-energy-demand-20200211T2300-20200212T2300...\n",
      "Uploaded es-energy-demand-20200212T2300-20200213T2300...\n",
      "Uploaded es-energy-demand-20200213T2300-20200214T2300...\n",
      "Uploaded es-energy-demand-20200214T2300-20200215T2300...\n",
      "Uploaded es-energy-demand-20200215T2300-20200216T2300...\n",
      "Uploaded es-energy-demand-20200216T2300-20200217T2300...\n",
      "Uploaded es-energy-demand-20200217T2300-20200218T2300...\n",
      "Uploaded es-energy-demand-20200218T2300-20200219T2300...\n",
      "Uploaded es-energy-demand-20200219T2300-20200220T2300...\n",
      "Uploaded es-energy-demand-20200220T2300-20200221T2300...\n",
      "Uploaded es-energy-demand-20200221T2300-20200222T2300...\n",
      "Uploaded es-energy-demand-20200222T2300-20200223T2300...\n",
      "Uploaded es-energy-demand-20200223T2300-20200224T2300...\n",
      "Uploaded es-energy-demand-20200224T2300-20200225T2300...\n",
      "Uploaded es-energy-demand-20200225T2300-20200226T2300...\n",
      "Uploaded es-energy-demand-20200226T2300-20200227T2300...\n",
      "Uploaded es-energy-demand-20200227T2300-20200228T2300...\n",
      "Uploaded es-energy-demand-20200228T2300-20200229T2300...\n",
      "Uploaded es-energy-demand-20200229T2300-20200301T2300...\n",
      "Uploaded es-energy-demand-20200301T2300-20200302T2300...\n",
      "Uploaded es-energy-demand-20200302T2300-20200303T2300...\n",
      "Uploaded es-energy-demand-20200303T2300-20200304T2300...\n",
      "Uploaded es-energy-demand-20200304T2300-20200305T2300...\n",
      "Uploaded es-energy-demand-20200305T2300-20200306T2300...\n",
      "Uploaded es-energy-demand-20200306T2300-20200307T2300...\n",
      "Uploaded es-energy-demand-20200307T2300-20200308T2300...\n",
      "Uploaded es-energy-demand-20200308T2300-20200309T2300...\n"
     ]
    }
   ],
   "source": [
    "#download all dates in the time pairs and upload to GCS\n",
    "folder='raw-days'\n",
    "bucket=storage_client.get_bucket(bucket_name)\n",
    "\n",
    "for time_pair in time_pairs:\n",
    "    s = time_pair[0]\n",
    "    e = time_pair[1]\n",
    "    file_name = f'es-energy-demand-{s}-{e}'\n",
    "    blob = bucket.blob(f'{folder}/{file_name}')\n",
    "    \n",
    "    data = load_entsoe(time_pair)\n",
    "    \n",
    "    blob.upload_from_string(data.to_json())\n",
    "    print(f'Uploaded {file_name}...')"
   ]
  },
  {
   "cell_type": "code",
   "execution_count": null,
   "metadata": {},
   "outputs": [],
   "source": []
  },
  {
   "cell_type": "code",
   "execution_count": null,
   "metadata": {},
   "outputs": [],
   "source": []
  },
  {
   "cell_type": "code",
   "execution_count": null,
   "metadata": {},
   "outputs": [],
   "source": []
  },
  {
   "cell_type": "code",
   "execution_count": 18,
   "metadata": {},
   "outputs": [
    {
     "name": "stdout",
     "output_type": "stream",
     "text": [
      "/Users/ns/github-repos/energy-dashboard/notebooks\r\n"
     ]
    }
   ],
   "source": [
    "!pwd"
   ]
  },
  {
   "cell_type": "code",
   "execution_count": 21,
   "metadata": {},
   "outputs": [],
   "source": [
    "path='/Users/ns/github-repos/energy-dashboard/data'\n",
    "name = 'es_load_data_20200305-16'\n",
    "#data.to_csv(os.path.join(path, name))"
   ]
  },
  {
   "cell_type": "code",
   "execution_count": 22,
   "metadata": {},
   "outputs": [],
   "source": [
    "blob.upload_from_filename(os.path.join(path, name))"
   ]
  },
  {
   "cell_type": "code",
   "execution_count": null,
   "metadata": {},
   "outputs": [],
   "source": []
  }
 ],
 "metadata": {
  "kernelspec": {
   "display_name": "Python 3",
   "language": "python",
   "name": "python3"
  },
  "language_info": {
   "codemirror_mode": {
    "name": "ipython",
    "version": 3
   },
   "file_extension": ".py",
   "mimetype": "text/x-python",
   "name": "python",
   "nbconvert_exporter": "python",
   "pygments_lexer": "ipython3",
   "version": "3.7.3"
  }
 },
 "nbformat": 4,
 "nbformat_minor": 4
}
