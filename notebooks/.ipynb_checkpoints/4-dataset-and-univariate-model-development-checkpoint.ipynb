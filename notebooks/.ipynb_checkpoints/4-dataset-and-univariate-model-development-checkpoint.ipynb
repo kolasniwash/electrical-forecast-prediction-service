{
 "cells": [
  {
   "cell_type": "markdown",
   "metadata": {},
   "source": [
    "## Univariate model for deployment\n",
    "\n",
    "This notebook develops the datasets, persistance model functions, and univariate LSTM model used in V1 of the energy-dashboard."
   ]
  },
  {
   "cell_type": "code",
   "execution_count": 37,
   "metadata": {},
   "outputs": [],
   "source": [
    "import pandas as pd\n",
    "import tensorflow as tf\n",
    "from entsoe import EntsoePandasClient\n",
    "import os\n",
    "pd.set_option('min_rows', 100)"
   ]
  },
  {
   "cell_type": "code",
   "execution_count": 3,
   "metadata": {},
   "outputs": [],
   "source": [
    "#download training dataset\n",
    "train_path = '~/github-repos/energy-dashboard/data/training'\n",
    "\n",
    "train_start = '20150101'\n",
    "train_end = '20181231'\n",
    "\n",
    "client = EntsoePandasClient(api_key='909addb7-e4ae-4702-acc7-6b4f4fd9667b')\n",
    "train = client.query_load(\"ES\", \n",
    "                         start=pd.Timestamp(f\"{train_start}T0000\", tz='UTC'), \n",
    "                         end=pd.Timestamp(f\"{train_end}T2300\", tz='UTC'))\n",
    "\n",
    "train.to_csv(os.path.join(train_path, 'training-2015-2018.csv'))\n"
   ]
  },
  {
   "cell_type": "code",
   "execution_count": 10,
   "metadata": {},
   "outputs": [
    {
     "name": "stdout",
     "output_type": "stream",
     "text": [
      "35032\n",
      "2015-01-01 01:00:00+01:00    24382.0\n",
      "2015-01-01 02:00:00+01:00    22734.0\n",
      "2015-01-01 03:00:00+01:00    21286.0\n",
      "2015-01-01 04:00:00+01:00    20264.0\n",
      "2015-01-01 05:00:00+01:00    19905.0\n",
      "dtype: float64\n",
      "2018-12-31 19:00:00+01:00    30653.0\n",
      "2018-12-31 20:00:00+01:00    29735.0\n",
      "2018-12-31 21:00:00+01:00    28071.0\n",
      "2018-12-31 22:00:00+01:00    25801.0\n",
      "2018-12-31 23:00:00+01:00    24455.0\n",
      "dtype: float64\n"
     ]
    },
    {
     "data": {
      "text/plain": [
       "count    35032.000000\n",
       "mean     28696.974252\n",
       "std       4575.226062\n",
       "min      18041.000000\n",
       "25%      24807.000000\n",
       "50%      28901.500000\n",
       "75%      32192.000000\n",
       "max      41015.000000\n",
       "dtype: float64"
      ]
     },
     "execution_count": 10,
     "metadata": {},
     "output_type": "execute_result"
    }
   ],
   "source": [
    "print(len(train))\n",
    "print(train.head())\n",
    "print(train.tail())\n",
    "train.describe()"
   ]
  },
  {
   "cell_type": "code",
   "execution_count": 11,
   "metadata": {},
   "outputs": [
    {
     "data": {
      "text/plain": [
       "0"
      ]
     },
     "execution_count": 11,
     "metadata": {},
     "output_type": "execute_result"
    }
   ],
   "source": [
    "train.isnull().sum()"
   ]
  },
  {
   "cell_type": "code",
   "execution_count": 12,
   "metadata": {},
   "outputs": [],
   "source": [
    "#download the testing dataset\n",
    "test_path = '~/github-repos/energy-dashboard/data/test'\n",
    "\n",
    "test_start = '20150101'\n",
    "test_end = '20181231'\n",
    "\n",
    "client = EntsoePandasClient(api_key='909addb7-e4ae-4702-acc7-6b4f4fd9667b')\n",
    "test = client.query_load(\"ES\", \n",
    "                         start=pd.Timestamp(f\"{train_start}T0000\", tz='UTC'), \n",
    "                         end=pd.Timestamp(f\"{train_end}T2300\", tz='UTC'))\n",
    "\n",
    "test.to_csv(os.path.join(test_path, 'test-2019.csv'))"
   ]
  },
  {
   "cell_type": "markdown",
   "metadata": {},
   "source": [
    "### Persistance 3 day MA"
   ]
  },
  {
   "cell_type": "code",
   "execution_count": 38,
   "metadata": {},
   "outputs": [],
   "source": [
    "def persistance_day_ma(series, num_days):\n",
    "    \n",
    "    window=24*num_days\n",
    "    rolling_mean = series.rolling(window=window, min_periods=24, closed='right').mean()\n",
    "    \n",
    "    return rolling_mean[-24:]\n",
    "    \n",
    "persist_3_day = persistance_day_ma(train, 3)"
   ]
  },
  {
   "cell_type": "code",
   "execution_count": 39,
   "metadata": {},
   "outputs": [
    {
     "data": {
      "text/plain": [
       "2018-12-31 00:00:00+01:00    26834.541667\n",
       "2018-12-31 01:00:00+01:00    26821.652778\n",
       "2018-12-31 02:00:00+01:00    26808.763889\n",
       "2018-12-31 03:00:00+01:00    26794.263889\n",
       "2018-12-31 04:00:00+01:00    26778.625000\n",
       "2018-12-31 05:00:00+01:00    26760.902778\n",
       "2018-12-31 06:00:00+01:00    26734.958333\n",
       "2018-12-31 07:00:00+01:00    26693.930556\n",
       "2018-12-31 08:00:00+01:00    26644.805556\n",
       "2018-12-31 09:00:00+01:00    26596.458333\n",
       "2018-12-31 10:00:00+01:00    26552.333333\n",
       "2018-12-31 11:00:00+01:00    26504.458333\n",
       "2018-12-31 12:00:00+01:00    26453.388889\n",
       "2018-12-31 13:00:00+01:00    26400.375000\n",
       "2018-12-31 14:00:00+01:00    26354.263889\n",
       "2018-12-31 15:00:00+01:00    26308.819444\n",
       "2018-12-31 16:00:00+01:00    26260.402778\n",
       "2018-12-31 17:00:00+01:00    26209.152778\n",
       "2018-12-31 18:00:00+01:00    26172.263889\n",
       "2018-12-31 19:00:00+01:00    26143.444444\n",
       "2018-12-31 20:00:00+01:00    26103.069444\n",
       "2018-12-31 21:00:00+01:00    26046.347222\n",
       "2018-12-31 22:00:00+01:00    25982.083333\n",
       "2018-12-31 23:00:00+01:00    25932.638889\n",
       "dtype: float64"
      ]
     },
     "execution_count": 39,
     "metadata": {},
     "output_type": "execute_result"
    }
   ],
   "source": [
    "persist_3_day"
   ]
  },
  {
   "cell_type": "markdown",
   "metadata": {},
   "source": [
    "### Persitance 3 days hour by hour"
   ]
  },
  {
   "cell_type": "code",
   "execution_count": 41,
   "metadata": {},
   "outputs": [],
   "source": [
    "series = train[-72:]"
   ]
  },
  {
   "cell_type": "code",
   "execution_count": 57,
   "metadata": {},
   "outputs": [
    {
     "data": {
      "text/html": [
       "<div>\n",
       "<style scoped>\n",
       "    .dataframe tbody tr th:only-of-type {\n",
       "        vertical-align: middle;\n",
       "    }\n",
       "\n",
       "    .dataframe tbody tr th {\n",
       "        vertical-align: top;\n",
       "    }\n",
       "\n",
       "    .dataframe thead th {\n",
       "        text-align: right;\n",
       "    }\n",
       "</style>\n",
       "<table border=\"1\" class=\"dataframe\">\n",
       "  <thead>\n",
       "    <tr style=\"text-align: right;\">\n",
       "      <th></th>\n",
       "      <th>0</th>\n",
       "      <th>1</th>\n",
       "      <th>2</th>\n",
       "      <th>3</th>\n",
       "      <th>4</th>\n",
       "      <th>5</th>\n",
       "      <th>6</th>\n",
       "      <th>7</th>\n",
       "      <th>8</th>\n",
       "      <th>9</th>\n",
       "      <th>...</th>\n",
       "      <th>14</th>\n",
       "      <th>15</th>\n",
       "      <th>16</th>\n",
       "      <th>17</th>\n",
       "      <th>18</th>\n",
       "      <th>19</th>\n",
       "      <th>20</th>\n",
       "      <th>21</th>\n",
       "      <th>22</th>\n",
       "      <th>23</th>\n",
       "    </tr>\n",
       "  </thead>\n",
       "  <tbody>\n",
       "    <tr>\n",
       "      <th>29</th>\n",
       "      <td>25709.0</td>\n",
       "      <td>23622.0</td>\n",
       "      <td>22122.0</td>\n",
       "      <td>21368.0</td>\n",
       "      <td>21084.0</td>\n",
       "      <td>21168.0</td>\n",
       "      <td>21927.0</td>\n",
       "      <td>23347.0</td>\n",
       "      <td>24931.0</td>\n",
       "      <td>27300.0</td>\n",
       "      <td>...</td>\n",
       "      <td>28811.0</td>\n",
       "      <td>27815.0</td>\n",
       "      <td>27044.0</td>\n",
       "      <td>27317.0</td>\n",
       "      <td>29535.0</td>\n",
       "      <td>30271.0</td>\n",
       "      <td>30819.0</td>\n",
       "      <td>30718.0</td>\n",
       "      <td>29352.0</td>\n",
       "      <td>27332.0</td>\n",
       "    </tr>\n",
       "    <tr>\n",
       "      <th>30</th>\n",
       "      <td>24922.0</td>\n",
       "      <td>22772.0</td>\n",
       "      <td>21301.0</td>\n",
       "      <td>20386.0</td>\n",
       "      <td>20103.0</td>\n",
       "      <td>20112.0</td>\n",
       "      <td>20651.0</td>\n",
       "      <td>21639.0</td>\n",
       "      <td>22662.0</td>\n",
       "      <td>24759.0</td>\n",
       "      <td>...</td>\n",
       "      <td>27264.0</td>\n",
       "      <td>26002.0</td>\n",
       "      <td>25313.0</td>\n",
       "      <td>25552.0</td>\n",
       "      <td>28072.0</td>\n",
       "      <td>29221.0</td>\n",
       "      <td>30042.0</td>\n",
       "      <td>30229.0</td>\n",
       "      <td>29145.0</td>\n",
       "      <td>26934.0</td>\n",
       "    </tr>\n",
       "    <tr>\n",
       "      <th>31</th>\n",
       "      <td>24312.0</td>\n",
       "      <td>22140.0</td>\n",
       "      <td>20851.0</td>\n",
       "      <td>20200.0</td>\n",
       "      <td>20006.0</td>\n",
       "      <td>20366.0</td>\n",
       "      <td>21723.0</td>\n",
       "      <td>23850.0</td>\n",
       "      <td>25969.0</td>\n",
       "      <td>28382.0</td>\n",
       "      <td>...</td>\n",
       "      <td>27988.0</td>\n",
       "      <td>27009.0</td>\n",
       "      <td>26449.0</td>\n",
       "      <td>26738.0</td>\n",
       "      <td>29592.0</td>\n",
       "      <td>30653.0</td>\n",
       "      <td>29735.0</td>\n",
       "      <td>28071.0</td>\n",
       "      <td>25801.0</td>\n",
       "      <td>24455.0</td>\n",
       "    </tr>\n",
       "  </tbody>\n",
       "</table>\n",
       "<p>3 rows × 24 columns</p>\n",
       "</div>"
      ],
      "text/plain": [
       "         0        1        2        3        4        5        6        7   \\\n",
       "29  25709.0  23622.0  22122.0  21368.0  21084.0  21168.0  21927.0  23347.0   \n",
       "30  24922.0  22772.0  21301.0  20386.0  20103.0  20112.0  20651.0  21639.0   \n",
       "31  24312.0  22140.0  20851.0  20200.0  20006.0  20366.0  21723.0  23850.0   \n",
       "\n",
       "         8        9   ...       14       15       16       17       18  \\\n",
       "29  24931.0  27300.0  ...  28811.0  27815.0  27044.0  27317.0  29535.0   \n",
       "30  22662.0  24759.0  ...  27264.0  26002.0  25313.0  25552.0  28072.0   \n",
       "31  25969.0  28382.0  ...  27988.0  27009.0  26449.0  26738.0  29592.0   \n",
       "\n",
       "         19       20       21       22       23  \n",
       "29  30271.0  30819.0  30718.0  29352.0  27332.0  \n",
       "30  29221.0  30042.0  30229.0  29145.0  26934.0  \n",
       "31  30653.0  29735.0  28071.0  25801.0  24455.0  \n",
       "\n",
       "[3 rows x 24 columns]"
      ]
     },
     "execution_count": 57,
     "metadata": {},
     "output_type": "execute_result"
    }
   ],
   "source": [
    "days = series.index.day.unique()\n",
    "hours = series.index.hour[:24]\n",
    "pd.DataFrame(series.values.reshape((3,24)), index=days, columns=hours)"
   ]
  },
  {
   "cell_type": "code",
   "execution_count": null,
   "metadata": {},
   "outputs": [],
   "source": []
  },
  {
   "cell_type": "code",
   "execution_count": null,
   "metadata": {},
   "outputs": [],
   "source": [
    "def persistance_MA_hourly(series, days):\n",
    "    \n",
    "    \n",
    "    "
   ]
  }
 ],
 "metadata": {
  "kernelspec": {
   "display_name": "Python 3",
   "language": "python",
   "name": "python3"
  },
  "language_info": {
   "codemirror_mode": {
    "name": "ipython",
    "version": 3
   },
   "file_extension": ".py",
   "mimetype": "text/x-python",
   "name": "python",
   "nbconvert_exporter": "python",
   "pygments_lexer": "ipython3",
   "version": "3.7.3"
  }
 },
 "nbformat": 4,
 "nbformat_minor": 4
}
