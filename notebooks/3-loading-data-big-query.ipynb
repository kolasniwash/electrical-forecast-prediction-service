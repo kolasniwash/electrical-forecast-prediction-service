{
 "cells": [
  {
   "cell_type": "markdown",
   "metadata": {},
   "source": [
    "## Load Previous Day\n",
    "\n",
    "This function queries the entsoe dataset and upload the previous day's energy demand to google cloud storage."
   ]
  },
  {
   "cell_type": "code",
   "execution_count": 44,
   "metadata": {},
   "outputs": [
    {
     "data": {
      "text/plain": [
       "'/Users/ns/github-repos/energy-dashboard/energy-dashboard.json'"
      ]
     },
     "execution_count": 44,
     "metadata": {},
     "output_type": "execute_result"
    }
   ],
   "source": [
    "from google.cloud import storage\n",
    "from google.oauth2 import service_account\n",
    "import os\n",
    "from entsoe import EntsoePandasClient\n",
    "import pandas as pd\n",
    "from datetime import datetime, timedelta\n",
    "\n",
    "os.environ['GOOGLE_APPLICATION_CREDENTIALS']\n"
   ]
  },
  {
   "cell_type": "code",
   "execution_count": 32,
   "metadata": {},
   "outputs": [],
   "source": [
    "client = EntsoePandasClient(api_key='909addb7-e4ae-4702-acc7-6b4f4fd9667b')\n",
    "data = client.query_load(\"ES\", \n",
    "                         start=pd.Timestamp(\"20200303T0000\", tz='UTC'), \n",
    "                         end=pd.Timestamp(\"20200303T2300\", tz='UTC'))"
   ]
  },
  {
   "cell_type": "code",
   "execution_count": 33,
   "metadata": {
    "collapsed": true
   },
   "outputs": [
    {
     "data": {
      "text/plain": [
       "2020-03-03 01:00:00+01:00    24607.0\n",
       "2020-03-03 02:00:00+01:00    23619.0\n",
       "2020-03-03 03:00:00+01:00    23260.0\n",
       "2020-03-03 04:00:00+01:00    23274.0\n",
       "2020-03-03 05:00:00+01:00    23846.0\n",
       "2020-03-03 06:00:00+01:00    26705.0\n",
       "2020-03-03 07:00:00+01:00    30842.0\n",
       "2020-03-03 08:00:00+01:00    33267.0\n",
       "2020-03-03 09:00:00+01:00    34482.0\n",
       "2020-03-03 10:00:00+01:00    34712.0\n",
       "2020-03-03 11:00:00+01:00    34789.0\n",
       "2020-03-03 12:00:00+01:00    34579.0\n",
       "2020-03-03 13:00:00+01:00    34261.0\n",
       "2020-03-03 14:00:00+01:00    33071.0\n",
       "2020-03-03 15:00:00+01:00    32221.0\n",
       "2020-03-03 16:00:00+01:00    31514.0\n",
       "2020-03-03 17:00:00+01:00    31315.0\n",
       "2020-03-03 18:00:00+01:00    31304.0\n",
       "2020-03-03 19:00:00+01:00    33688.0\n",
       "2020-03-03 20:00:00+01:00    34965.0\n",
       "2020-03-03 21:00:00+01:00    33910.0\n",
       "2020-03-03 22:00:00+01:00    31371.0\n",
       "2020-03-03 23:00:00+01:00    28475.0\n",
       "dtype: float64"
      ]
     },
     "execution_count": 33,
     "metadata": {},
     "output_type": "execute_result"
    }
   ],
   "source": [
    "data"
   ]
  },
  {
   "cell_type": "code",
   "execution_count": 36,
   "metadata": {},
   "outputs": [],
   "source": [
    "creds = service_account.Credentials.from_service_account_file(os.environ['GOOGLE_APPLICATION_CREDENTIALS'])\n",
    "project = 'ml-energy-dashboard'\n",
    "client_s = storage.Client(credentials=creds, project=project)"
   ]
  },
  {
   "cell_type": "code",
   "execution_count": 40,
   "metadata": {},
   "outputs": [],
   "source": [
    "def query_entsoe_data(date):\n",
    "    client = EntsoePandasClient(api_key=os.environ['ENTSOE_TOKEN'])\n",
    "    data = client.query_load(\"ES\", \n",
    "                             start=pd.Timestamp(f\"{date}T0000\", tz='UTC'), \n",
    "                             end=pd.Timestamp(f\"{date}T2300\", tz='UTC'))\n",
    "    return data"
   ]
  },
  {
   "cell_type": "code",
   "execution_count": 41,
   "metadata": {
    "collapsed": true
   },
   "outputs": [
    {
     "data": {
      "text/plain": [
       "2020-03-03 01:00:00+01:00    24607.0\n",
       "2020-03-03 02:00:00+01:00    23619.0\n",
       "2020-03-03 03:00:00+01:00    23260.0\n",
       "2020-03-03 04:00:00+01:00    23274.0\n",
       "2020-03-03 05:00:00+01:00    23846.0\n",
       "2020-03-03 06:00:00+01:00    26705.0\n",
       "2020-03-03 07:00:00+01:00    30842.0\n",
       "2020-03-03 08:00:00+01:00    33267.0\n",
       "2020-03-03 09:00:00+01:00    34482.0\n",
       "2020-03-03 10:00:00+01:00    34712.0\n",
       "2020-03-03 11:00:00+01:00    34789.0\n",
       "2020-03-03 12:00:00+01:00    34579.0\n",
       "2020-03-03 13:00:00+01:00    34261.0\n",
       "2020-03-03 14:00:00+01:00    33071.0\n",
       "2020-03-03 15:00:00+01:00    32221.0\n",
       "2020-03-03 16:00:00+01:00    31514.0\n",
       "2020-03-03 17:00:00+01:00    31315.0\n",
       "2020-03-03 18:00:00+01:00    31304.0\n",
       "2020-03-03 19:00:00+01:00    33688.0\n",
       "2020-03-03 20:00:00+01:00    34965.0\n",
       "2020-03-03 21:00:00+01:00    33910.0\n",
       "2020-03-03 22:00:00+01:00    31371.0\n",
       "2020-03-03 23:00:00+01:00    28475.0\n",
       "dtype: float64"
      ]
     },
     "execution_count": 41,
     "metadata": {},
     "output_type": "execute_result"
    }
   ],
   "source": [
    "query_entsoe_data(20200303)"
   ]
  },
  {
   "cell_type": "code",
   "execution_count": 49,
   "metadata": {},
   "outputs": [],
   "source": [
    "def generate_date():\n",
    "    return (datetime.today()+timedelta(-1)).strftime('%Y%m%d')"
   ]
  },
  {
   "cell_type": "code",
   "execution_count": 50,
   "metadata": {},
   "outputs": [
    {
     "data": {
      "text/plain": [
       "'20200303'"
      ]
     },
     "execution_count": 50,
     "metadata": {},
     "output_type": "execute_result"
    }
   ],
   "source": [
    "generate_date()"
   ]
  },
  {
   "cell_type": "code",
   "execution_count": 51,
   "metadata": {
    "collapsed": true
   },
   "outputs": [
    {
     "data": {
      "text/plain": [
       "2020-03-03 01:00:00+01:00    24607.0\n",
       "2020-03-03 02:00:00+01:00    23619.0\n",
       "2020-03-03 03:00:00+01:00    23260.0\n",
       "2020-03-03 04:00:00+01:00    23274.0\n",
       "2020-03-03 05:00:00+01:00    23846.0\n",
       "2020-03-03 06:00:00+01:00    26705.0\n",
       "2020-03-03 07:00:00+01:00    30842.0\n",
       "2020-03-03 08:00:00+01:00    33267.0\n",
       "2020-03-03 09:00:00+01:00    34482.0\n",
       "2020-03-03 10:00:00+01:00    34712.0\n",
       "2020-03-03 11:00:00+01:00    34789.0\n",
       "2020-03-03 12:00:00+01:00    34579.0\n",
       "2020-03-03 13:00:00+01:00    34261.0\n",
       "2020-03-03 14:00:00+01:00    33071.0\n",
       "2020-03-03 15:00:00+01:00    32221.0\n",
       "2020-03-03 16:00:00+01:00    31514.0\n",
       "2020-03-03 17:00:00+01:00    31315.0\n",
       "2020-03-03 18:00:00+01:00    31304.0\n",
       "2020-03-03 19:00:00+01:00    33688.0\n",
       "2020-03-03 20:00:00+01:00    34965.0\n",
       "2020-03-03 21:00:00+01:00    33910.0\n",
       "2020-03-03 22:00:00+01:00    31371.0\n",
       "2020-03-03 23:00:00+01:00    28475.0\n",
       "dtype: float64"
      ]
     },
     "execution_count": 51,
     "metadata": {},
     "output_type": "execute_result"
    }
   ],
   "source": [
    "date = generate_date()\n",
    "query_entsoe_data(date)"
   ]
  },
  {
   "cell_type": "code",
   "execution_count": 52,
   "metadata": {},
   "outputs": [],
   "source": [
    "def gcs_file_name(date):\n",
    "    return f'es-energy-demand-raw-{date}'"
   ]
  },
  {
   "cell_type": "code",
   "execution_count": 54,
   "metadata": {},
   "outputs": [],
   "source": [
    "bucket_name = 'ml-energy-dashboard-raw-data'\n",
    "bucket = client_s.get_bucket(bucket_name)\n",
    "blob = bucket.blob(f'raw-days/{gcs_file_name(date)}')"
   ]
  },
  {
   "cell_type": "code",
   "execution_count": 58,
   "metadata": {},
   "outputs": [],
   "source": [
    "blob.upload_from_string(data.to_json())"
   ]
  },
  {
   "cell_type": "code",
   "execution_count": null,
   "metadata": {},
   "outputs": [],
   "source": []
  },
  {
   "cell_type": "code",
   "execution_count": 56,
   "metadata": {},
   "outputs": [
    {
     "data": {
      "text/plain": [
       "'{\"1583193600000\":24607.0,\"1583197200000\":23619.0,\"1583200800000\":23260.0,\"1583204400000\":23274.0,\"1583208000000\":23846.0,\"1583211600000\":26705.0,\"1583215200000\":30842.0,\"1583218800000\":33267.0,\"1583222400000\":34482.0,\"1583226000000\":34712.0,\"1583229600000\":34789.0,\"1583233200000\":34579.0,\"1583236800000\":34261.0,\"1583240400000\":33071.0,\"1583244000000\":32221.0,\"1583247600000\":31514.0,\"1583251200000\":31315.0,\"1583254800000\":31304.0,\"1583258400000\":33688.0,\"1583262000000\":34965.0,\"1583265600000\":33910.0,\"1583269200000\":31371.0,\"1583272800000\":28475.0}'"
      ]
     },
     "execution_count": 56,
     "metadata": {},
     "output_type": "execute_result"
    }
   ],
   "source": [
    "data.to_json()"
   ]
  },
  {
   "cell_type": "markdown",
   "metadata": {},
   "source": [
    "## Define the table"
   ]
  },
  {
   "cell_type": "code",
   "execution_count": 18,
   "metadata": {},
   "outputs": [
    {
     "name": "stdout",
     "output_type": "stream",
     "text": [
      "Created table ml-energy-dashboard.energy_loads.es_energy_demand\n"
     ]
    }
   ],
   "source": [
    "schema = [\n",
    "    bigquery.SchemaField(\"timestamp\", 'STRING', mode=\"REQUIRED\"),\n",
    "    bigquery.SchemaField(\"demand\", \"FLOAT\")\n",
    "]\n",
    "\n",
    "table_id = 'ml-energy-dashboard.energy_loads.es_energy_demand'\n",
    "\n",
    "table = bigquery.Table(table_id, schema=schema)\n",
    "table = client_bq.create_table(table)\n",
    "\n",
    "print(\n",
    "    \"Created table {}.{}.{}\".format(table.project, table.dataset_id, table.table_id)\n",
    ")"
   ]
  },
  {
   "cell_type": "markdown",
   "metadata": {},
   "source": [
    "## Initalize table with 2019 data"
   ]
  },
  {
   "cell_type": "code",
   "execution_count": null,
   "metadata": {},
   "outputs": [],
   "source": [
    "dataaset_id = 'energy_loads'\n",
    "#recreate the table with the passed csv\n",
    "dataset_ref = client.dataset(dataset_id)\n",
    "job_config = bigquery.LoadJobConfig()\n",
    "job_config.autodetect = True\n",
    "job_config.skip_leading_rows = 1\n",
    "\n",
    "with open(local_path, 'rb') as source_file:\n",
    "        job = client.load_table_from_file(\n",
    "        source_file,\n",
    "        table_ref,\n",
    "        location='EU',  # Must match the destination dataset location.\n",
    "        job_config=job_config)  # API request\n",
    "\n",
    "job.result()  # Waits for table load to complete.\n",
    "\n",
    "print('Loaded {} rows into project: {} dataset: {} table: {}.'.format(job.output_rows, project_id, dataset_id, table_name_bigquery))\n"
   ]
  }
 ],
 "metadata": {
  "kernelspec": {
   "display_name": "Python 3",
   "language": "python",
   "name": "python3"
  },
  "language_info": {
   "codemirror_mode": {
    "name": "ipython",
    "version": 3
   },
   "file_extension": ".py",
   "mimetype": "text/x-python",
   "name": "python",
   "nbconvert_exporter": "python",
   "pygments_lexer": "ipython3",
   "version": "3.7.3"
  }
 },
 "nbformat": 4,
 "nbformat_minor": 4
}
